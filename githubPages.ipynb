{
 "cells": [
  {
   "cell_type": "code",
   "execution_count": null,
   "id": "e280beb7",
   "metadata": {},
   "outputs": [],
   "source": [
    "Github pages"
   ]
  },
  {
   "cell_type": "code",
   "execution_count": null,
   "id": "f1cae284",
   "metadata": {},
   "outputs": [],
   "source": [
    "watch the themes s4vitar, github pages"
   ]
  },
  {
   "cell_type": "code",
   "execution_count": null,
   "id": "e273d65b",
   "metadata": {},
   "outputs": [],
   "source": []
  },
  {
   "cell_type": "code",
   "execution_count": null,
   "id": "018ca37a",
   "metadata": {},
   "outputs": [],
   "source": [
    "temas\n",
    "http://joshgerdes.com/jekyll-uno/ #Ponerle al fondo las particlas de particle\n",
    "http://pavelmakhov.com/jekyll-clean-dark/\n",
    "https://taylantatli.github.io/Halve/ #vknos\n",
    "https://taylantatli.github.io/Moon/ #vknopropio \n",
    "https://le4ker.github.io/personal-jekyll-theme/   #mUY BUENO\n",
    "https://yizeng.github.io/jekyll-theme-simple-texture/\n",
    "https://fullit.github.io/\n",
    "https://nrandecker.github.io/particle/ #Buenas particulas\n",
    "https://brave-submarine.cloudvent.net/\n",
    "https://victorvoid.me/space-jekyll-template/\n",
    "https://codeasashu.github.io/hcz-jekyll-blog/\n",
    "https://tsjensen.github.io/fuse-core/\n",
    "https://hydejack.com/blog/ #Excelente blog\n",
    "https://jekflix.rossener.com/   #Tipo revista tecnologica veloz\n",
    "https://supunkavinda.github.io/jekyll-theme-leaf/  #el primero de s4vitar\n",
    "https://www.zuehlke.cloud/  #Bien presentado\n",
    "https://chirpy.cotes.info/\n",
    "https://longpdo.github.io/neumorphism/  #tiene de todo\n",
    "https://jekyll-for-everyone.github.io/  #CV\n",
    "http://jekyllthemes.org/themes/hydejack/ #excelen\n",
    "https://github.com/inded/Jekyll_modern-blog\n",
    "https://github.com/old-jekyll-templates/Strata-Jekyll-Theme #que capo"
   ]
  },
  {
   "cell_type": "code",
   "execution_count": null,
   "id": "ca68f275",
   "metadata": {},
   "outputs": [],
   "source": [
    "install rubyinstaller-devkit-3.0.2-1-x64.exe"
   ]
  },
  {
   "cell_type": "code",
   "execution_count": null,
   "id": "ae5a6c73",
   "metadata": {},
   "outputs": [],
   "source": [
    "Escoger el repo del tema hacerle fork, ponerle el nombre, y en settings github pages escoger el tema"
   ]
  },
  {
   "cell_type": "code",
   "execution_count": null,
   "id": "ed643c92",
   "metadata": {},
   "outputs": [],
   "source": [
    "clonar el tema a tu pc. "
   ]
  },
  {
   "cell_type": "code",
   "execution_count": null,
   "id": "477fd06d",
   "metadata": {},
   "outputs": [],
   "source": [
    "$ git clone https://github.com/rroderickk/rroderickk.github.io"
   ]
  },
  {
   "cell_type": "code",
   "execution_count": null,
   "id": "dcce3076",
   "metadata": {},
   "outputs": [],
   "source": [
    "$ cd rroderickk.github.io \n",
    "$ gem install jekyll\n",
    "$ bundle update --bundler #Actualizar el bundler\n",
    "#cd..\n",
    "#jekyll new rroderickk.github.io --force\n",
    "#cd rroderickk.github.io\n",
    "$ bundle install \n",
    "$ bundle add webrick\n",
    "$ bundle exec jekyll serve\n",
    "navegador: go to in the navegator\n",
    "http://127.0.0.1:4000/ \n",
    "\"\"\" \n",
    "Para que todo este conjunto anterior fuincione el archivo GenFile\n",
    "debe contener la gema de git-hub pages y los plugins necesarios para el tema que escogiste, para mi caso \n",
    "contiene:\n",
    "\n",
    "source 'https://rubygems.org'\n",
    "gem \"github-pages\"\n",
    "gem \"webrick\", \"~> 1.7\"\n",
    "group :jekyll_plugins do\n",
    "  gem \"jekyll-feed\", \"~> 0.12\"\n",
    "  gem \"jekyll-gist\"\n",
    "  gem \"jekyll-paginate\"\n",
    "  gem \"jekyll-seo-tag\"\n",
    "  gem 'jekyll-admin'\n",
    "end \n",
    "\"\"\""
   ]
  },
  {
   "cell_type": "code",
   "execution_count": null,
   "id": "88694ee8",
   "metadata": {},
   "outputs": [],
   "source": []
  },
  {
   "cell_type": "code",
   "execution_count": null,
   "id": "df180cec",
   "metadata": {},
   "outputs": [],
   "source": []
  }
 ],
 "metadata": {
  "kernelspec": {
   "display_name": "Python 3",
   "language": "python",
   "name": "python3"
  },
  "language_info": {
   "codemirror_mode": {
    "name": "ipython",
    "version": 3
   },
   "file_extension": ".py",
   "mimetype": "text/x-python",
   "name": "python",
   "nbconvert_exporter": "python",
   "pygments_lexer": "ipython3",
   "version": "3.8.8"
  }
 },
 "nbformat": 4,
 "nbformat_minor": 5
}
